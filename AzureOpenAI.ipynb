{
  "nbformat": 4,
  "nbformat_minor": 0,
  "metadata": {
    "colab": {
      "provenance": [],
      "include_colab_link": true
    },
    "kernelspec": {
      "name": "python3",
      "display_name": "Python 3"
    },
    "language_info": {
      "name": "python"
    }
  },
  "cells": [
    {
      "cell_type": "markdown",
      "metadata": {
        "id": "view-in-github",
        "colab_type": "text"
      },
      "source": [
        "<a href=\"https://colab.research.google.com/github/sidneyhori/policyanalizer/blob/main/AzureOpenAI.ipynb\" target=\"_parent\"><img src=\"https://colab.research.google.com/assets/colab-badge.svg\" alt=\"Open In Colab\"/></a>"
      ]
    },
    {
      "cell_type": "markdown",
      "source": [
        "Install openai and python\n",
        "Import os, openai\n",
        "Set openai.api"
      ],
      "metadata": {
        "id": "455GufJIn3L8"
      }
    },
    {
      "cell_type": "code",
      "source": [
        "!pip install openai\n",
        "!pip install IPython\n",
        "import os\n",
        "import openai\n",
        "openai.api_type = \"azure\"\n",
        "openai.api_version = \"2023-07-01-preview\"\n",
        "openai.api_base = \"https://AeonixEastUS2-2.openai.azure.com/\"  # Your Azure OpenAI resource's endpoint value.\n",
        "openai.api_key = \"f0bac54917c74454956e7b8e58ade2ee\""
      ],
      "metadata": {
        "colab": {
          "base_uri": "https://localhost:8080/"
        },
        "id": "tbDftDwDEXh9",
        "outputId": "23282a92-b203-43f9-fe1d-1cfd62670ce9"
      },
      "execution_count": null,
      "outputs": [
        {
          "output_type": "stream",
          "name": "stdout",
          "text": [
            "Collecting openai\n",
            "  Downloading openai-0.27.9-py3-none-any.whl (75 kB)\n",
            "\u001b[?25l     \u001b[90m━━━━━━━━━━━━━━━━━━━━━━━━━━━━━━━━━━━━━━━━\u001b[0m \u001b[32m0.0/75.5 kB\u001b[0m \u001b[31m?\u001b[0m eta \u001b[36m-:--:--\u001b[0m\r\u001b[2K     \u001b[90m━━━━━━━━━━━━━━━━━━━━━━━━━━━━━━━━━━━━━━━━\u001b[0m \u001b[32m75.5/75.5 kB\u001b[0m \u001b[31m2.2 MB/s\u001b[0m eta \u001b[36m0:00:00\u001b[0m\n",
            "\u001b[?25hRequirement already satisfied: requests>=2.20 in /usr/local/lib/python3.10/dist-packages (from openai) (2.31.0)\n",
            "Requirement already satisfied: tqdm in /usr/local/lib/python3.10/dist-packages (from openai) (4.66.1)\n",
            "Requirement already satisfied: aiohttp in /usr/local/lib/python3.10/dist-packages (from openai) (3.8.5)\n",
            "Requirement already satisfied: charset-normalizer<4,>=2 in /usr/local/lib/python3.10/dist-packages (from requests>=2.20->openai) (3.2.0)\n",
            "Requirement already satisfied: idna<4,>=2.5 in /usr/local/lib/python3.10/dist-packages (from requests>=2.20->openai) (3.4)\n",
            "Requirement already satisfied: urllib3<3,>=1.21.1 in /usr/local/lib/python3.10/dist-packages (from requests>=2.20->openai) (2.0.4)\n",
            "Requirement already satisfied: certifi>=2017.4.17 in /usr/local/lib/python3.10/dist-packages (from requests>=2.20->openai) (2023.7.22)\n",
            "Requirement already satisfied: attrs>=17.3.0 in /usr/local/lib/python3.10/dist-packages (from aiohttp->openai) (23.1.0)\n",
            "Requirement already satisfied: multidict<7.0,>=4.5 in /usr/local/lib/python3.10/dist-packages (from aiohttp->openai) (6.0.4)\n",
            "Requirement already satisfied: async-timeout<5.0,>=4.0.0a3 in /usr/local/lib/python3.10/dist-packages (from aiohttp->openai) (4.0.3)\n",
            "Requirement already satisfied: yarl<2.0,>=1.0 in /usr/local/lib/python3.10/dist-packages (from aiohttp->openai) (1.9.2)\n",
            "Requirement already satisfied: frozenlist>=1.1.1 in /usr/local/lib/python3.10/dist-packages (from aiohttp->openai) (1.4.0)\n",
            "Requirement already satisfied: aiosignal>=1.1.2 in /usr/local/lib/python3.10/dist-packages (from aiohttp->openai) (1.3.1)\n",
            "Installing collected packages: openai\n",
            "Successfully installed openai-0.27.9\n",
            "Requirement already satisfied: IPython in /usr/local/lib/python3.10/dist-packages (7.34.0)\n",
            "Requirement already satisfied: setuptools>=18.5 in /usr/local/lib/python3.10/dist-packages (from IPython) (67.7.2)\n",
            "Collecting jedi>=0.16 (from IPython)\n",
            "  Downloading jedi-0.19.0-py2.py3-none-any.whl (1.6 MB)\n",
            "\u001b[2K     \u001b[90m━━━━━━━━━━━━━━━━━━━━━━━━━━━━━━━━━━━━━━━━\u001b[0m \u001b[32m1.6/1.6 MB\u001b[0m \u001b[31m27.8 MB/s\u001b[0m eta \u001b[36m0:00:00\u001b[0m\n",
            "\u001b[?25hRequirement already satisfied: decorator in /usr/local/lib/python3.10/dist-packages (from IPython) (4.4.2)\n",
            "Requirement already satisfied: pickleshare in /usr/local/lib/python3.10/dist-packages (from IPython) (0.7.5)\n",
            "Requirement already satisfied: traitlets>=4.2 in /usr/local/lib/python3.10/dist-packages (from IPython) (5.7.1)\n",
            "Requirement already satisfied: prompt-toolkit!=3.0.0,!=3.0.1,<3.1.0,>=2.0.0 in /usr/local/lib/python3.10/dist-packages (from IPython) (3.0.39)\n",
            "Requirement already satisfied: pygments in /usr/local/lib/python3.10/dist-packages (from IPython) (2.16.1)\n",
            "Requirement already satisfied: backcall in /usr/local/lib/python3.10/dist-packages (from IPython) (0.2.0)\n",
            "Requirement already satisfied: matplotlib-inline in /usr/local/lib/python3.10/dist-packages (from IPython) (0.1.6)\n",
            "Requirement already satisfied: pexpect>4.3 in /usr/local/lib/python3.10/dist-packages (from IPython) (4.8.0)\n",
            "Requirement already satisfied: parso<0.9.0,>=0.8.3 in /usr/local/lib/python3.10/dist-packages (from jedi>=0.16->IPython) (0.8.3)\n",
            "Requirement already satisfied: ptyprocess>=0.5 in /usr/local/lib/python3.10/dist-packages (from pexpect>4.3->IPython) (0.7.0)\n",
            "Requirement already satisfied: wcwidth in /usr/local/lib/python3.10/dist-packages (from prompt-toolkit!=3.0.0,!=3.0.1,<3.1.0,>=2.0.0->IPython) (0.2.6)\n",
            "Installing collected packages: jedi\n",
            "Successfully installed jedi-0.19.0\n"
          ]
        }
      ]
    },
    {
      "cell_type": "markdown",
      "source": [
        "System Message and other parameters"
      ],
      "metadata": {
        "id": "yt38kLkRuVOa"
      }
    },
    {
      "cell_type": "code",
      "source": [
        "system_message = '''Your name is Brubeck and you are an analyst specialized in HR policies.\n",
        "                    Users will prompt you specific policies in text format.\n",
        "                    You will help them analyze the policy and identify potential for enhancements.\n",
        "                    As much as possible you will provide responses in a table csv format.\n",
        "                    When asked to perform comparison to local legal requirements you will first search for local legal requirements\n",
        "                    for the country that the policy is related to and then perform the comparison using the best knowledge you have\n",
        "                    for the local legal requirement.\n",
        "                    You will respond to local legal requirement comparisons using a table format including a column for the policy section,\n",
        "                    a column for a brief description of the policy section, a column for a brief description of the regulation\n",
        "                    and a last column that assesses if the policy is under coverage, at coverage or above coverage of the legal requirements.\n",
        "                    Please use this sections:\n",
        "                    Health Check/Antenatal Appointment,\n",
        "                    Safety at Work,\n",
        "                    Sickness Absence,\n",
        "                    Maternity Leave Start,\n",
        "                    Duration of Maternity Leave,\n",
        "                    Pay during Maternity Leave,\n",
        "                    Contact During Leave,\n",
        "                    Annual Leave during Maternity,\n",
        "                    Rights during Maternity,\n",
        "                    Distressing Situations,\n",
        "                    Return to Work,\n",
        "                    Job after Maternity Leave,\n",
        "                    Feeding Arrangements,\n",
        "                    Adoption Leave and Commissioning Mother Leave.\n",
        "                    At the end of the analysis you will tell the user which local legal requirements references you have used.'''"
      ],
      "metadata": {
        "id": "s2dDgITmuUU8"
      },
      "execution_count": null,
      "outputs": []
    },
    {
      "cell_type": "markdown",
      "source": [
        "Upload Policy File from Local Drive"
      ],
      "metadata": {
        "id": "m4R0-hKCxhIc"
      }
    },
    {
      "cell_type": "code",
      "source": [
        "from google.colab import files\n",
        "\n",
        "uploaded = files.upload()\n",
        "\n",
        "filename = list(uploaded.keys())[0]  # Get the filename from the uploaded files\n",
        "\n",
        "with open(filename, 'r') as file:\n",
        "    policy_content = file.read()\n",
        "\n",
        "print(policy_content)\n"
      ],
      "metadata": {
        "colab": {
          "base_uri": "https://localhost:8080/",
          "height": 857
        },
        "id": "6YLXmdq6xgb1",
        "outputId": "1d9cacea-0b20-475a-b9e7-f27d7554a69f"
      },
      "execution_count": null,
      "outputs": [
        {
          "output_type": "display_data",
          "data": {
            "text/plain": [
              "<IPython.core.display.HTML object>"
            ],
            "text/html": [
              "\n",
              "     <input type=\"file\" id=\"files-59ceb5a6-0ded-4d90-a036-de9d75e33af4\" name=\"files[]\" multiple disabled\n",
              "        style=\"border:none\" />\n",
              "     <output id=\"result-59ceb5a6-0ded-4d90-a036-de9d75e33af4\">\n",
              "      Upload widget is only available when the cell has been executed in the\n",
              "      current browser session. Please rerun this cell to enable.\n",
              "      </output>\n",
              "      <script>// Copyright 2017 Google LLC\n",
              "//\n",
              "// Licensed under the Apache License, Version 2.0 (the \"License\");\n",
              "// you may not use this file except in compliance with the License.\n",
              "// You may obtain a copy of the License at\n",
              "//\n",
              "//      http://www.apache.org/licenses/LICENSE-2.0\n",
              "//\n",
              "// Unless required by applicable law or agreed to in writing, software\n",
              "// distributed under the License is distributed on an \"AS IS\" BASIS,\n",
              "// WITHOUT WARRANTIES OR CONDITIONS OF ANY KIND, either express or implied.\n",
              "// See the License for the specific language governing permissions and\n",
              "// limitations under the License.\n",
              "\n",
              "/**\n",
              " * @fileoverview Helpers for google.colab Python module.\n",
              " */\n",
              "(function(scope) {\n",
              "function span(text, styleAttributes = {}) {\n",
              "  const element = document.createElement('span');\n",
              "  element.textContent = text;\n",
              "  for (const key of Object.keys(styleAttributes)) {\n",
              "    element.style[key] = styleAttributes[key];\n",
              "  }\n",
              "  return element;\n",
              "}\n",
              "\n",
              "// Max number of bytes which will be uploaded at a time.\n",
              "const MAX_PAYLOAD_SIZE = 100 * 1024;\n",
              "\n",
              "function _uploadFiles(inputId, outputId) {\n",
              "  const steps = uploadFilesStep(inputId, outputId);\n",
              "  const outputElement = document.getElementById(outputId);\n",
              "  // Cache steps on the outputElement to make it available for the next call\n",
              "  // to uploadFilesContinue from Python.\n",
              "  outputElement.steps = steps;\n",
              "\n",
              "  return _uploadFilesContinue(outputId);\n",
              "}\n",
              "\n",
              "// This is roughly an async generator (not supported in the browser yet),\n",
              "// where there are multiple asynchronous steps and the Python side is going\n",
              "// to poll for completion of each step.\n",
              "// This uses a Promise to block the python side on completion of each step,\n",
              "// then passes the result of the previous step as the input to the next step.\n",
              "function _uploadFilesContinue(outputId) {\n",
              "  const outputElement = document.getElementById(outputId);\n",
              "  const steps = outputElement.steps;\n",
              "\n",
              "  const next = steps.next(outputElement.lastPromiseValue);\n",
              "  return Promise.resolve(next.value.promise).then((value) => {\n",
              "    // Cache the last promise value to make it available to the next\n",
              "    // step of the generator.\n",
              "    outputElement.lastPromiseValue = value;\n",
              "    return next.value.response;\n",
              "  });\n",
              "}\n",
              "\n",
              "/**\n",
              " * Generator function which is called between each async step of the upload\n",
              " * process.\n",
              " * @param {string} inputId Element ID of the input file picker element.\n",
              " * @param {string} outputId Element ID of the output display.\n",
              " * @return {!Iterable<!Object>} Iterable of next steps.\n",
              " */\n",
              "function* uploadFilesStep(inputId, outputId) {\n",
              "  const inputElement = document.getElementById(inputId);\n",
              "  inputElement.disabled = false;\n",
              "\n",
              "  const outputElement = document.getElementById(outputId);\n",
              "  outputElement.innerHTML = '';\n",
              "\n",
              "  const pickedPromise = new Promise((resolve) => {\n",
              "    inputElement.addEventListener('change', (e) => {\n",
              "      resolve(e.target.files);\n",
              "    });\n",
              "  });\n",
              "\n",
              "  const cancel = document.createElement('button');\n",
              "  inputElement.parentElement.appendChild(cancel);\n",
              "  cancel.textContent = 'Cancel upload';\n",
              "  const cancelPromise = new Promise((resolve) => {\n",
              "    cancel.onclick = () => {\n",
              "      resolve(null);\n",
              "    };\n",
              "  });\n",
              "\n",
              "  // Wait for the user to pick the files.\n",
              "  const files = yield {\n",
              "    promise: Promise.race([pickedPromise, cancelPromise]),\n",
              "    response: {\n",
              "      action: 'starting',\n",
              "    }\n",
              "  };\n",
              "\n",
              "  cancel.remove();\n",
              "\n",
              "  // Disable the input element since further picks are not allowed.\n",
              "  inputElement.disabled = true;\n",
              "\n",
              "  if (!files) {\n",
              "    return {\n",
              "      response: {\n",
              "        action: 'complete',\n",
              "      }\n",
              "    };\n",
              "  }\n",
              "\n",
              "  for (const file of files) {\n",
              "    const li = document.createElement('li');\n",
              "    li.append(span(file.name, {fontWeight: 'bold'}));\n",
              "    li.append(span(\n",
              "        `(${file.type || 'n/a'}) - ${file.size} bytes, ` +\n",
              "        `last modified: ${\n",
              "            file.lastModifiedDate ? file.lastModifiedDate.toLocaleDateString() :\n",
              "                                    'n/a'} - `));\n",
              "    const percent = span('0% done');\n",
              "    li.appendChild(percent);\n",
              "\n",
              "    outputElement.appendChild(li);\n",
              "\n",
              "    const fileDataPromise = new Promise((resolve) => {\n",
              "      const reader = new FileReader();\n",
              "      reader.onload = (e) => {\n",
              "        resolve(e.target.result);\n",
              "      };\n",
              "      reader.readAsArrayBuffer(file);\n",
              "    });\n",
              "    // Wait for the data to be ready.\n",
              "    let fileData = yield {\n",
              "      promise: fileDataPromise,\n",
              "      response: {\n",
              "        action: 'continue',\n",
              "      }\n",
              "    };\n",
              "\n",
              "    // Use a chunked sending to avoid message size limits. See b/62115660.\n",
              "    let position = 0;\n",
              "    do {\n",
              "      const length = Math.min(fileData.byteLength - position, MAX_PAYLOAD_SIZE);\n",
              "      const chunk = new Uint8Array(fileData, position, length);\n",
              "      position += length;\n",
              "\n",
              "      const base64 = btoa(String.fromCharCode.apply(null, chunk));\n",
              "      yield {\n",
              "        response: {\n",
              "          action: 'append',\n",
              "          file: file.name,\n",
              "          data: base64,\n",
              "        },\n",
              "      };\n",
              "\n",
              "      let percentDone = fileData.byteLength === 0 ?\n",
              "          100 :\n",
              "          Math.round((position / fileData.byteLength) * 100);\n",
              "      percent.textContent = `${percentDone}% done`;\n",
              "\n",
              "    } while (position < fileData.byteLength);\n",
              "  }\n",
              "\n",
              "  // All done.\n",
              "  yield {\n",
              "    response: {\n",
              "      action: 'complete',\n",
              "    }\n",
              "  };\n",
              "}\n",
              "\n",
              "scope.google = scope.google || {};\n",
              "scope.google.colab = scope.google.colab || {};\n",
              "scope.google.colab._files = {\n",
              "  _uploadFiles,\n",
              "  _uploadFilesContinue,\n",
              "};\n",
              "})(self);\n",
              "</script> "
            ]
          },
          "metadata": {}
        },
        {
          "output_type": "stream",
          "name": "stdout",
          "text": [
            "Saving Indonesia Mat Leave.txt to Indonesia Mat Leave.txt\n",
            "Maternity Leave Policy July 2022 \n",
            "This Policy may be amended from time to time. Changes will be communicated to managers and employees \n",
            "Policy owned by HR \n",
            "Version 2.0 \n",
            "Indonesia \n",
            "This Policy applies to all employees in PT Weir Minerals Indonesia and PT ESCO Mining Products. \n",
            "Introduction \n",
            "At Weir, you’re part of our global team, working hard with colleagues to build a better future. \n",
            "Your future, with those closest to you, may include adding to your family. If you are planning a family please read this policy, which gives details of your rights and entitlements. We would encourage you to read the full policy to ensure you understand what’s provided. \n",
            "We’d like to support you during this stage of life and ensure you can utilise the time off work which is provided during the different stages of family planning and pregnancy. You’ll notice there are variations between provinces and municipalities. Please be sure to refer to the diagrams at the end of the policy, which illustrate these. \n",
            "Who’s covered by this Policy? This Policy applies to all female employees. \n",
            "Prior to Maternity Leave \n",
            "SAFETY AT WORK \n",
            "We want to ensure you are safe at work. Please help us to look after you by letting us know if there are any aspects of the work you are doing which are causing you difficulties. Likewise, if your doctor gives advice about things which may cause you risk in your job or alterations which would make your job safer, whilst pregnant, please let us know immediately. There may be changes we can make which will help you or other steps which we need to consider. \n",
            "SICKNESS ABSENCE \n",
            "If you are absent from work during pregnancy due to sickness (for a reason not covered under the other sections of this policy), you will receive sick pay in accordance with the rules in the Sick Leave Policy. \n",
            "Starting Maternity Leave \n",
            "TIMING OF MATERNITY LEAVE \n",
            "There is no fixed period of notice you need to give your manager, about when you intend to start your maternity leave. However, it is useful to give as much notice as is feasible. You will need to provide a certificate from your doctor prior to commencing leave. If you are unable to do this, because you give birth sooner than expected, you should provide the certificate as soon as possible. \n",
            "You may commence maternity leave up to six weeks prior to the expected date of birth. Alternatively, your maternity leave may start on a specified date, following guidance from your doctor or midwife. \n",
            "DURATION OF LEAVE AND PAY DURING LEAVE \n",
            "You are entitled to a total of twelve (12) weeks’ leave and this is paid at your usual rate of pay. \n",
            "During Maternity Leave \n",
            "CONTACT DURING MATERNITY LEAVE \n",
            "There are no specific rules in place about contact during your leave. We would encourage you to keep in touch with your manager, during your leave if you would like to. Your manager may update you, by phone, on any key developments at work if you would find this helpful. However, we will be directed by you and there is no obligation for you to be in contact during your leave. \n",
            "ANNUAL LEAVE AND MATERNITY LEAVE \n",
            "You will continue to accrue annual leave, in line with the Annual Leave Policy, throughout your period of maternity leave. \n",
            "RIGHTS DURING MATERNITY LEAVE \n",
            "During your period of maternity leave you are protected by any relevant legislation in place. Please contact your manager or HR for more information. \n",
            "DISTRESSING SITUATIONS \n",
            "Sadly, there are times when employees are faced with distressing circumstances. \n",
            "If an employee’s baby is born stillborn or they suffer a miscarriage a period of paid leave is available. In such cases, paid leave of 6 weeks can be taken. \n",
            "After Maternity Leave \n",
            "RETURNING TO WORK \n",
            "You will return to work at the end of the maternity leave period. We will assume you will take your full entitlement to maternity leave, unless you advise us otherwise. If you would like to return to work sooner, please contact your manager to agree the date of your return. \n",
            "If you would like to take annual leave at the end of your maternity leave please contact your manager to arrange. \n",
            "Unless there have been changes communicated to you, during your maternity leave, you will return to the same job as you were doing, prior to the leave. \n",
            "If you decide, during your maternity leave, that you don’t want to come back to work you should submit your resignation as soon as feasible. \n",
            "If you are unwell at the time when you are scheduled to return from maternity leave, you should notify your manager. In this situation, your absence would be managed under terms of the Sickness Absence Policy. \n",
            "If you don’t return to work and don’t communicate with your manager as to why you are absent, your absence may be treated as “absent without leave”. Therefore, it is important to keep your manager up to date with your plans. \n",
            "FEEDING ARRANGEMENTS \n",
            "If, when you return to work after maternity leave, you wish to make arrangements for lactation this can be organised. Please speak to your manager who can consider an appropriate facility or who may be able to give you time off at the start or end of the working day to accommodate lactation. \n",
            "We’ve covered essential information above, but if you have other questions please ask your manager or find HR contact information on ServiceNow. \n",
            "\n"
          ]
        }
      ]
    },
    {
      "cell_type": "markdown",
      "source": [
        "Policy Summarization"
      ],
      "metadata": {
        "id": "bvYfTDOzoPJt"
      }
    },
    {
      "cell_type": "code",
      "execution_count": null,
      "metadata": {
        "id": "PDAOxZqwzUHj"
      },
      "outputs": [],
      "source": [
        "prompt = \"can you please summarize this policy? \" + policy_content\n",
        "\n",
        "response = openai.ChatCompletion.create(\n",
        "    engine=\"aeongpt4\", # The deployment name you chose when you deployed the GPT-35-Turbo or GPT-4 model.\n",
        "    messages=[\n",
        "        {\"role\": \"system\", \"content\": system_message},\n",
        "        {\"role\": \"user\", \"content\": prompt}\n",
        "    ]\n",
        ")\n",
        "\n",
        "#print(response)\n",
        "\n",
        "print(response['choices'][0]['message']['content'])\n",
        "\n"
      ]
    },
    {
      "cell_type": "markdown",
      "source": [
        "Summary Download to Local Drive"
      ],
      "metadata": {
        "id": "LgpG6SZe3Jgq"
      }
    },
    {
      "cell_type": "code",
      "source": [
        "policy_summary = response['choices'][0]['message']['content']\n",
        "\n",
        "with open('policy_summary.txt', 'w') as file:\n",
        "    file.write(policy_summary)\n",
        "\n",
        "from google.colab import files\n",
        "\n",
        "files.download('policy_summary.txt')"
      ],
      "metadata": {
        "colab": {
          "base_uri": "https://localhost:8080/",
          "height": 17
        },
        "id": "lYpWhvX61rH9",
        "outputId": "b4af4163-a8cf-475d-8993-c41eebafbaed"
      },
      "execution_count": null,
      "outputs": [
        {
          "output_type": "display_data",
          "data": {
            "text/plain": [
              "<IPython.core.display.Javascript object>"
            ],
            "application/javascript": [
              "\n",
              "    async function download(id, filename, size) {\n",
              "      if (!google.colab.kernel.accessAllowed) {\n",
              "        return;\n",
              "      }\n",
              "      const div = document.createElement('div');\n",
              "      const label = document.createElement('label');\n",
              "      label.textContent = `Downloading \"${filename}\": `;\n",
              "      div.appendChild(label);\n",
              "      const progress = document.createElement('progress');\n",
              "      progress.max = size;\n",
              "      div.appendChild(progress);\n",
              "      document.body.appendChild(div);\n",
              "\n",
              "      const buffers = [];\n",
              "      let downloaded = 0;\n",
              "\n",
              "      const channel = await google.colab.kernel.comms.open(id);\n",
              "      // Send a message to notify the kernel that we're ready.\n",
              "      channel.send({})\n",
              "\n",
              "      for await (const message of channel.messages) {\n",
              "        // Send a message to notify the kernel that we're ready.\n",
              "        channel.send({})\n",
              "        if (message.buffers) {\n",
              "          for (const buffer of message.buffers) {\n",
              "            buffers.push(buffer);\n",
              "            downloaded += buffer.byteLength;\n",
              "            progress.value = downloaded;\n",
              "          }\n",
              "        }\n",
              "      }\n",
              "      const blob = new Blob(buffers, {type: 'application/binary'});\n",
              "      const a = document.createElement('a');\n",
              "      a.href = window.URL.createObjectURL(blob);\n",
              "      a.download = filename;\n",
              "      div.appendChild(a);\n",
              "      a.click();\n",
              "      div.remove();\n",
              "    }\n",
              "  "
            ]
          },
          "metadata": {}
        },
        {
          "output_type": "display_data",
          "data": {
            "text/plain": [
              "<IPython.core.display.Javascript object>"
            ],
            "application/javascript": [
              "download(\"download_16d44b40-ce66-4ed3-a854-dd519c01c07d\", \"policy_summary.txt\", 1802)"
            ]
          },
          "metadata": {}
        }
      ]
    },
    {
      "cell_type": "markdown",
      "source": [
        "Policy Legal Requirements Comparison"
      ],
      "metadata": {
        "id": "vNfkdzcO32ew"
      }
    },
    {
      "cell_type": "code",
      "execution_count": null,
      "metadata": {
        "id": "6S7a5knO32ex"
      },
      "outputs": [],
      "source": [
        "prompt = \"can you please compare to local legal requirements? \" + policy_content\n",
        "\n",
        "response = openai.ChatCompletion.create(\n",
        "    engine=\"aeongpt4\", # The deployment name you chose when you deployed the GPT-35-Turbo or GPT-4 model.\n",
        "    messages=[\n",
        "        {\"role\": \"system\", \"content\": system_message},\n",
        "        {\"role\": \"user\", \"content\": prompt}\n",
        "    ]\n",
        ")\n",
        "\n",
        "#print(response)\n",
        "\n",
        "print(response['choices'][0]['message']['content'])\n",
        "\n"
      ]
    },
    {
      "cell_type": "markdown",
      "source": [
        "Legal Requirements Download to Local Drive"
      ],
      "metadata": {
        "id": "mcZyUtiv32ex"
      }
    },
    {
      "cell_type": "code",
      "source": [
        "legal_reqs = response['choices'][0]['message']['content']\n",
        "\n",
        "with open('legal_reqs.txt', 'w') as file:\n",
        "    file.write(legal_reqs)\n",
        "\n",
        "from google.colab import files\n",
        "\n",
        "files.download('legal_reqs.txt')"
      ],
      "metadata": {
        "colab": {
          "base_uri": "https://localhost:8080/",
          "height": 17
        },
        "outputId": "c51fe11a-e89f-4f82-d424-d2da7da4578f",
        "id": "OQdd4PGs32ex"
      },
      "execution_count": null,
      "outputs": [
        {
          "output_type": "display_data",
          "data": {
            "text/plain": [
              "<IPython.core.display.Javascript object>"
            ],
            "application/javascript": [
              "\n",
              "    async function download(id, filename, size) {\n",
              "      if (!google.colab.kernel.accessAllowed) {\n",
              "        return;\n",
              "      }\n",
              "      const div = document.createElement('div');\n",
              "      const label = document.createElement('label');\n",
              "      label.textContent = `Downloading \"${filename}\": `;\n",
              "      div.appendChild(label);\n",
              "      const progress = document.createElement('progress');\n",
              "      progress.max = size;\n",
              "      div.appendChild(progress);\n",
              "      document.body.appendChild(div);\n",
              "\n",
              "      const buffers = [];\n",
              "      let downloaded = 0;\n",
              "\n",
              "      const channel = await google.colab.kernel.comms.open(id);\n",
              "      // Send a message to notify the kernel that we're ready.\n",
              "      channel.send({})\n",
              "\n",
              "      for await (const message of channel.messages) {\n",
              "        // Send a message to notify the kernel that we're ready.\n",
              "        channel.send({})\n",
              "        if (message.buffers) {\n",
              "          for (const buffer of message.buffers) {\n",
              "            buffers.push(buffer);\n",
              "            downloaded += buffer.byteLength;\n",
              "            progress.value = downloaded;\n",
              "          }\n",
              "        }\n",
              "      }\n",
              "      const blob = new Blob(buffers, {type: 'application/binary'});\n",
              "      const a = document.createElement('a');\n",
              "      a.href = window.URL.createObjectURL(blob);\n",
              "      a.download = filename;\n",
              "      div.appendChild(a);\n",
              "      a.click();\n",
              "      div.remove();\n",
              "    }\n",
              "  "
            ]
          },
          "metadata": {}
        },
        {
          "output_type": "display_data",
          "data": {
            "text/plain": [
              "<IPython.core.display.Javascript object>"
            ],
            "application/javascript": [
              "download(\"download_47e06091-4f13-450d-bf93-b2f9c7d258fd\", \"legal_reqs.txt\", 2756)"
            ]
          },
          "metadata": {}
        }
      ]
    },
    {
      "cell_type": "markdown",
      "source": [
        "Functions for Chat and Report Download"
      ],
      "metadata": {
        "id": "8ZEdyWhA_O9E"
      }
    },
    {
      "cell_type": "code",
      "source": [
        "def Chat(messages):\n",
        "    response = openai.ChatCompletion.create(\n",
        "        engine=\"aeongpt4\", # The deployment name you chose when you deployed the GPT-35-turbo or GPT-4 model.\n",
        "        messages=messages,\n",
        "        temperature=1,\n",
        "        max_tokens=800,\n",
        "        top_p=1,\n",
        "        frequency_penalty=0,\n",
        "        presence_penalty=0,\n",
        "        stop=None\n",
        "    )\n",
        "    return response\n",
        "\n",
        "def writereport(analysis):\n",
        "    with open('analysis.txt', 'a') as file:\n",
        "      file.write(analysis)\n",
        "\n",
        "def downloadreport():\n",
        "    from google.colab import files\n",
        "    files.download('analysis.txt')"
      ],
      "metadata": {
        "id": "95zcEVXn79WY"
      },
      "execution_count": null,
      "outputs": []
    },
    {
      "cell_type": "markdown",
      "source": [
        "Policy Analysis"
      ],
      "metadata": {
        "id": "dN8sQx3Z_UMu"
      }
    },
    {
      "cell_type": "code",
      "source": [
        "conversation=[{\"role\": \"system\", \"content\": system_message}]\n",
        "\n",
        "prompt = \"can you please summarize this policy? \" + policy_content\n",
        "conversation.append({\"role\": \"user\", \"content\": prompt})\n",
        "response = Chat(conversation)\n",
        "conversation.append({\"role\": \"assistant\", \"content\": response[\"choices\"][0][\"message\"][\"content\"]})\n",
        "print(\"\\n\" + response['choices'][0]['message']['content'] + \"\\n\")\n",
        "writereport(response['choices'][0]['message']['content'] + \"\\n\")\n",
        "\n",
        "prompt = \"can you please compare to local legal requirements?\"\n",
        "conversation.append({\"role\": \"user\", \"content\": prompt})\n",
        "response = Chat(conversation)\n",
        "conversation.append({\"role\": \"assistant\", \"content\": response[\"choices\"][0][\"message\"][\"content\"]})\n",
        "print(\"\\n\" + response['choices'][0]['message']['content'] + \"\\n\")\n",
        "writereport(response['choices'][0]['message']['content'] + \"\\n\")\n",
        "\n",
        "prompt = \"can you please rewrite the policies with suggested enhancements, adding a intro paragraph at the beginning and and outro paragraph at the end. please write in humanly compassionate way?\"\n",
        "conversation.append({\"role\": \"user\", \"content\": prompt})\n",
        "response = Chat(conversation)\n",
        "conversation.append({\"role\": \"assistant\", \"content\": response[\"choices\"][0][\"message\"][\"content\"]})\n",
        "print(\"\\n\" + response['choices'][0]['message']['content'] + \"\\n\")\n",
        "writereport(response['choices'][0]['message']['content'] + \"\\n\")\n",
        "\n",
        "downloadreport()"
      ],
      "metadata": {
        "colab": {
          "base_uri": "https://localhost:8080/",
          "height": 1000
        },
        "id": "RIzqlMt16jL9",
        "outputId": "b01bd1d7-fe50-4059-f565-25414cff69e4"
      },
      "execution_count": null,
      "outputs": [
        {
          "output_type": "stream",
          "name": "stdout",
          "text": [
            "\n",
            "\"Policy Section\",\"Policy Brief\",\"Suggestion for Enhancement\"\n",
            "\"Safety at Work\",\"Provides consideration for any adjustments needed for the safety of pregnant employees.\",\"It may be beneficial to specify immediate actions after reports from the pregnant employee regarding safety.\"\n",
            "\"Sickness Absence\",\"Employees are entitled to sick pay according to the Sick Leave Policy during pregnancy when not due to maternity conditions.\",\"A well-defined crossover with the sickness policy ensuring there's no confusion would be useful.\"\n",
            "\"Maternity Leave Start\",\"The policy does not require a fixed period of notice before an employee starts their maternity leave.\",\"The provision of an ideal timeframe for notice could be beneficial even if not mandatory.\"\n",
            "\"Duration of Maternity Leave\",\"Entitles the employee for 12 weeks' leave with full pay.\",\"It could be compared with local regulations to ensure it meets or surpasses the minimum requirement.\"\n",
            "\"Pay during Maternity Leave\",\"Employees' salaries are unchanged during maternity leave.\",\"If any bonuses or variable payment are involved, clarifying whether these are included in the maternity pay would be helpful.\"\n",
            "\"Contact During Leave\",\"No specifications are given about contact during maternity leave. The employees are encouraged to keep in touch.\",\"It might be worth considering a specific system for these communications to ensure a balance.\"\n",
            "\"Annual Leave during Maternity\",\"Employees continue accruing annual leave during maternity leave.\",\"Clarify if annual leave can be taken immediately after maternity leave or if there are restrictions.\"\n",
            "\"Rights during Maternity\",\"States that employees are protected by legislation but doesn't inform of any specific rights.\",\"The policy could provide more explicit information on what those rights are\"\n",
            "\"Distressing Situations\",\"Provides 6 weeks' paid leave for stillbirth or miscarriage.\",\"It could be clarified if these weeks are in addition to the standard maternity leave if this happens during the leave\"\n",
            "\"Return to Work\",\"Clarifies that the employee will go back to work at the end of the maternity leave unless the employee requests to return sooner.\",\"The policy can provide clear notice periods for any changes to return to work dates.\"\n",
            "\"Job after Maternity Leave\",\"Employees will return to the same job, unless otherwise communicated.\",\"Reassurances of continuous employment may be strengthened by including language around job protection.\"\n",
            "\"Feeding Arrangements\",\"Allows time off for lactation but does not explicitly state the exact arrangement.\",\"A more specific policy or guidelines that considers practical aspects of breastfeeding would improve this section.\"\n",
            "\n",
            "\n",
            "First I need to search for local legal requirements for maternity leave in Indonesia.\n",
            "\n",
            "* According to Law No. 13/2003 concerning Manpower, every female worker is entitled to 1.5 months of maternity leave before giving birth and 1.5 months after giving birth, totalling 3 months (Article 82). \n",
            "* During the maternity leave, the female worker is entitled to receive her full salary (Article 83). \n",
            "* The employers are required to protect female workers from dismissal due to maternity (Article 93). \n",
            "* Employers are also required to facilitate breastfeeding in the workplace if there are more than 50 female workers (Article 86). \n",
            "\n",
            "Based on these regulations, let's compare the provided maternity leave policy.\n",
            "\n",
            "\"Policy Section\",\"Policy Brief\",\"Regulation Brief\",\"Coverage Status\"\n",
            "\"Safety at Work\",\"Policy references consideration for health and safety of pregnant workers\",\"No specific Indonesian regulatory provision identified\",\"At Coverage\"\n",
            "\"Sickness Absence\",\"Existing sick leave covered during pregnancy\",\"Not specifically stipulated under Indonesian law, separate sickness provisions may apply\",\"At Coverage\"\n",
            "\"Maternity Leave Start\",\"No fixed period of notice for leave commencement\",\"No set regulation found on required notice period in Indonesia\",\"At Coverage\"\n",
            "\"Duration of Maternity Leave\",\"12 weeks leave period\",\"Indonesian law grants 3 months (approximately 12 weeks)\",\"At Coverage\"\n",
            "\"Pay during Maternity Leave\",\"Full pay during leave\",\"Indonesian law requires full pay during maternity leave\",\"At Coverage\"\n",
            "\"Contact During Leave\",\"No specific rules for contact during leave\",\"Not specifically stipulated under Indonesian law\",\"At Coverage\"\n",
            "\"Annual Leave during Maternity\",\"Continuous accrual of annual leave during maternity leave\",\"No specific Indonesian regulatory provision identified\",\"At Coverage\"\n",
            "\"Rights during Maternity\",\"Brief mention of protection by legislation without specifics.\",\"Non-dismissal due to maternity is stipulated in Article 93\",\"Under Coverage\"\n",
            "\"Distressing Situations\",\"Distressing circumstances paid leave of 6 weeks\",\"No specific Indonesian regulatory provision identified\",\"At Coverage\"\n",
            "\"Return to Work\",\"Assumption that full maternity leave will be taken unless stated otherwise\",\"No set regulation found on return to work process in Indonesia\",\"At Coverage\"\n",
            "\"Job after Maternity Leave\",\"Return to the same job post-leave\",\"Indonesian law stipulates non-dismissal due to maternity, implying job continuity\",\"At Coverage\"\n",
            "\"Feeding Arrangements\",\"Allows time off for lactation\",\"Indonesian law requires facilitation of breastfeeding in workplaces with more than 50 female employees\",\"Under Coverage\"\n",
            "\n",
            "References: \n",
            "Indonesian Law number 13 of 2003 concerning Manpower\n",
            "\n",
            "\n",
            "\n",
            "Intro Paragraph:\n",
            "At Weir, we appreciate that family is an invaluable part of your world and we realize the importance of supporting you through the beautiful journey of parenthood. With this Maternity Leave Policy, we aim to provide a helping hand as you navigate this significant chapter of your life. We endeavor to ensure your safety, well-being, and peace of mind, encouraging a work-life balance tailored around your new responsibilities. We value and trust in your active participation as we develop supportive policies that seek to uplift, nourish, and enhance your working experiences.\n",
            "\n",
            "Policy Enhancements with Human Compassion:\n",
            "\n",
            "Safety at Work: At Weir, your safety and well-being are a top priority for us, especially when you're expecting. We urge you to share difficulties, if any, related to your work environment or tasks. We value your health and promise to swiftly enact changes or consider steps to safeguard you and your growing family.\n",
            "\n",
            "Sickness Absence: In the event you are sick during your pregnancy, rest assured, your sick pay entitlements will be seamlessly and compassionately managed according to the Sick Leave Policy.\n",
            "\n",
            "Maternity Leave Start: We trust you to decide when it's time to start your maternity leave. We'd appreciate as much notice as possible to help us prepare for your absence, but we understand and respect that every pregnancy is different.\n",
            "\n",
            "Duration of Maternity Leave and Pay: Your maternity leave will span a total of 12 weeks, during which you will receive your full pay. We strive to ensure that this time is stress-free and conducive for you to bond with your new bundle of joy.\n",
            "\n",
            "Contact During Maternity Leave: We value open communication but comprehend that this time is immensely precious. While we encourage you to keep in touch, we will respect your space and only reach out based on your comfort and preference.\n",
            "\n",
            "Annual Leave and Maternity Leave: Even as you focus on your new familial duties, your annual leave will continue accumulating. It's little gestures like this that we hope will show our appreciation for your contributions to our team.\n",
            "\n",
            "Rights, Respect, and Recognition during Maternity Leave: We are committed to observing and safeguarding your rights as dictated by relevant legislation. We will continuously support you during this time and honor your entitlements.\n",
            "\n",
            "Distressing Situations: We acknowledge that sometimes life takes painful turns. If you experience distressing circumstances such as a stillbirth or a miscarriage, please know we will be there for you with 6 weeks of paid leave.\n",
            "\n",
            "Return to Work: Whenever you're ready, your workstation will be waiting for you. We will provide flexibility in case you wish to return early, and we will do everything we can to make your transition smooth and comfortable.\n",
            "\n",
            "Job after Maternity Leave: We value continuity in your professional journey. Unless there have been changes discussed and agreed upon, you shall return to your original job post your maternity leave.\n",
            "\n",
            "Feeding Arrangements: When you're back at work, we'll be ready with suitable arrangements for lactation breaks. We'll work together to allow your feeding schedule to fit comfortably into your working day.\n",
            "\n",
            "Outro Paragraph:\n",
            "We appreciate your commitment to Weir and understand that your journey to and from motherhood is a personal and precious one. We promise to stand by you, adapting and tailoring our policies to ensure the well-being of you and your new family. Our HR department is always available for any questions or further clarifications. Together, we will work to build a supportive, safe, and inclusive environment as you embrace these beautiful moments of life.\n",
            "\n"
          ]
        },
        {
          "output_type": "display_data",
          "data": {
            "text/plain": [
              "<IPython.core.display.Javascript object>"
            ],
            "application/javascript": [
              "\n",
              "    async function download(id, filename, size) {\n",
              "      if (!google.colab.kernel.accessAllowed) {\n",
              "        return;\n",
              "      }\n",
              "      const div = document.createElement('div');\n",
              "      const label = document.createElement('label');\n",
              "      label.textContent = `Downloading \"${filename}\": `;\n",
              "      div.appendChild(label);\n",
              "      const progress = document.createElement('progress');\n",
              "      progress.max = size;\n",
              "      div.appendChild(progress);\n",
              "      document.body.appendChild(div);\n",
              "\n",
              "      const buffers = [];\n",
              "      let downloaded = 0;\n",
              "\n",
              "      const channel = await google.colab.kernel.comms.open(id);\n",
              "      // Send a message to notify the kernel that we're ready.\n",
              "      channel.send({})\n",
              "\n",
              "      for await (const message of channel.messages) {\n",
              "        // Send a message to notify the kernel that we're ready.\n",
              "        channel.send({})\n",
              "        if (message.buffers) {\n",
              "          for (const buffer of message.buffers) {\n",
              "            buffers.push(buffer);\n",
              "            downloaded += buffer.byteLength;\n",
              "            progress.value = downloaded;\n",
              "          }\n",
              "        }\n",
              "      }\n",
              "      const blob = new Blob(buffers, {type: 'application/binary'});\n",
              "      const a = document.createElement('a');\n",
              "      a.href = window.URL.createObjectURL(blob);\n",
              "      a.download = filename;\n",
              "      div.appendChild(a);\n",
              "      a.click();\n",
              "      div.remove();\n",
              "    }\n",
              "  "
            ]
          },
          "metadata": {}
        },
        {
          "output_type": "display_data",
          "data": {
            "text/plain": [
              "<IPython.core.display.Javascript object>"
            ],
            "application/javascript": [
              "download(\"download_71166ebd-77eb-4422-91fc-e69775660149\", \"analysis.txt\", 11383)"
            ]
          },
          "metadata": {}
        }
      ]
    },
    {
      "cell_type": "markdown",
      "source": [
        "Conversation Chat Completion using Azure"
      ],
      "metadata": {
        "id": "6iifRcyJtCw-"
      }
    },
    {
      "cell_type": "code",
      "source": [
        "conversation=[{\"role\": \"system\", \"content\": \"Your name is MaxWell and you are an AI HR assistant that helps The Weir Group employees understand the company HR policies. Introduce yourself. Use emojis.\"}]\n",
        "\n",
        "while True:\n",
        "    user_input = input()\n",
        "    conversation.append({\"role\": \"user\", \"content\": user_input})\n",
        "\n",
        "    response = openai.ChatCompletion.create(\n",
        "        engine=\"aeongpt4\", # The deployment name you chose when you deployed the GPT-35-turbo or GPT-4 model.\n",
        "        messages=conversation,\n",
        "        temperature=1,\n",
        "        max_tokens=800,\n",
        "        top_p=1,\n",
        "        frequency_penalty=0,\n",
        "        presence_penalty=0,\n",
        "        stop=None\n",
        "    )\n",
        "\n",
        "    conversation.append({\"role\": \"assistant\", \"content\": response[\"choices\"][0][\"message\"][\"content\"]})\n",
        "    print(\"\\n\" + response['choices'][0]['message']['content'] + \"\\n\")"
      ],
      "metadata": {
        "id": "3pjxKbwSGymg"
      },
      "execution_count": null,
      "outputs": []
    },
    {
      "cell_type": "markdown",
      "source": [
        "Jair?"
      ],
      "metadata": {
        "id": "-BrpjDzHuA3r"
      }
    },
    {
      "cell_type": "code",
      "source": [
        "from IPython.display import display, Mardown\n",
        "import ipywidgets as widgets\n",
        "\n",
        "response_content = response['choices'][0]['message']['content']\n",
        "display(Markdown(response_content))\n",
        "\n",
        "#def display_value(value):\n",
        "#    return f\"You've selected {value}\"\n",
        "\n",
        "#widgets.interactive(display_value, value=widgets.IntSlider(min=0, max=10, step=1, value=5))\n",
        "\n",
        "\n"
      ],
      "metadata": {
        "colab": {
          "base_uri": "https://localhost:8080/",
          "height": 384
        },
        "id": "uArzcOnPxafH",
        "outputId": "c98387c8-1040-4eb1-9870-f7ed7d4af608"
      },
      "execution_count": null,
      "outputs": [
        {
          "output_type": "error",
          "ename": "ImportError",
          "evalue": "ignored",
          "traceback": [
            "\u001b[0;31m---------------------------------------------------------------------------\u001b[0m",
            "\u001b[0;31mImportError\u001b[0m                               Traceback (most recent call last)",
            "\u001b[0;32m<ipython-input-5-8c3b241c571f>\u001b[0m in \u001b[0;36m<cell line: 1>\u001b[0;34m()\u001b[0m\n\u001b[0;32m----> 1\u001b[0;31m \u001b[0;32mfrom\u001b[0m \u001b[0mIPython\u001b[0m\u001b[0;34m.\u001b[0m\u001b[0mdisplay\u001b[0m \u001b[0;32mimport\u001b[0m \u001b[0mdisplay\u001b[0m\u001b[0;34m,\u001b[0m \u001b[0mMardown\u001b[0m\u001b[0;34m\u001b[0m\u001b[0;34m\u001b[0m\u001b[0m\n\u001b[0m\u001b[1;32m      2\u001b[0m \u001b[0;32mimport\u001b[0m \u001b[0mipywidgets\u001b[0m \u001b[0;32mas\u001b[0m \u001b[0mwidgets\u001b[0m\u001b[0;34m\u001b[0m\u001b[0;34m\u001b[0m\u001b[0m\n\u001b[1;32m      3\u001b[0m \u001b[0;34m\u001b[0m\u001b[0m\n\u001b[1;32m      4\u001b[0m \u001b[0mresponse_content\u001b[0m \u001b[0;34m=\u001b[0m \u001b[0mresponse\u001b[0m\u001b[0;34m[\u001b[0m\u001b[0;34m'choices'\u001b[0m\u001b[0;34m]\u001b[0m\u001b[0;34m[\u001b[0m\u001b[0;36m0\u001b[0m\u001b[0;34m]\u001b[0m\u001b[0;34m[\u001b[0m\u001b[0;34m'message'\u001b[0m\u001b[0;34m]\u001b[0m\u001b[0;34m[\u001b[0m\u001b[0;34m'content'\u001b[0m\u001b[0;34m]\u001b[0m\u001b[0;34m\u001b[0m\u001b[0;34m\u001b[0m\u001b[0m\n\u001b[1;32m      5\u001b[0m \u001b[0mdisplay\u001b[0m\u001b[0;34m(\u001b[0m\u001b[0mMarkdown\u001b[0m\u001b[0;34m(\u001b[0m\u001b[0mresponse_content\u001b[0m\u001b[0;34m)\u001b[0m\u001b[0;34m)\u001b[0m\u001b[0;34m\u001b[0m\u001b[0;34m\u001b[0m\u001b[0m\n",
            "\u001b[0;31mImportError\u001b[0m: cannot import name 'Mardown' from 'IPython.display' (/usr/local/lib/python3.10/dist-packages/IPython/display.py)",
            "",
            "\u001b[0;31m---------------------------------------------------------------------------\u001b[0;32m\nNOTE: If your import is failing due to a missing package, you can\nmanually install dependencies using either !pip or !apt.\n\nTo view examples of installing some common dependencies, click the\n\"Open Examples\" button below.\n\u001b[0;31m---------------------------------------------------------------------------\u001b[0m\n"
          ],
          "errorDetails": {
            "actions": [
              {
                "action": "open_url",
                "actionText": "Open Examples",
                "url": "/notebooks/snippets/importing_libraries.ipynb"
              }
            ]
          }
        }
      ]
    }
  ]
}